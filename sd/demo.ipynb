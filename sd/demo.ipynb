{
 "cells": [
  {
   "cell_type": "code",
   "execution_count": 1,
   "metadata": {},
   "outputs": [
    {
     "name": "stdout",
     "output_type": "stream",
     "text": [
      "\u001b[31mERROR: Invalid requirement: 'transformers,'\u001b[0m\u001b[31m\n",
      "\u001b[0m"
     ]
    }
   ],
   "source": []
  },
  {
   "cell_type": "code",
   "execution_count": null,
   "metadata": {},
   "outputs": [],
   "source": [
    "import model_loader\n",
    "import pipeline \n",
    "from PIL import Image \n",
    "from pathlib import Path \n",
    "from transformers import CLIPTokenizer \n",
    "import torch\n",
    "\n",
    "device = 'cpu'\n",
    "\n",
    "allow_cuda = False \n",
    "allow_mps = False \n",
    "\n",
    "if torch.cuda.is_available():\n",
    "    device = 'cuda'\n",
    "elif (torch.backends.mps.is_available()) and allow_mps:\n",
    "    device = 'mps' #what's this? \n",
    "print(f\"device: {device}\")\n",
    "\n",
    "tokenizer = CLIPTokenizer('../data/vocab.json', merges_file='../data/merges.txt')\n",
    "model_file = \"../data/v1-5-pruned-emaonly.ckpt\"\n",
    "models = model_loader.preload_models_from_standard_weights(model_file, device=device)\n",
    "\n",
    "## TEXT TO IMAGE\n",
    "\n",
    "prompt = \"A dog with sunglasses, wearing a comfy hat, Looking at camera, highly detailed, ultra sharp, cinamtic, 100mm lense, 4k resolution\"\n",
    "uncond_prompt = \"\"  #aka negative prompt what you want to work againsti n cfg \n",
    "do_cfg = True \n",
    "cfg_scale = 8 #1-> 14\n",
    "\n",
    "#IMAGE TO IMAGE \n",
    "input_image = None \n",
    "image_path = './images/elvis.jpg'\n",
    "input_image = Image.open(image_path)\n",
    "strength = 0.9 #how much noise to initially add i.e 1 means pure noise\n",
    "\n",
    "#SAMPLER \n",
    "\n",
    "sampler = 'ddpm'\n",
    "num_inference_steps = 50 \n",
    "seed = 42\n",
    "\n",
    "output_image = pipeline.generate(\n",
    "    prompt=prompt,\n",
    "    uncond_prompt=uncond_prompt,\n",
    "    input_image=input_image,\n",
    "    strength=strength,\n",
    "    do_cfg=do_cfg,\n",
    "    cfg_scale=cfg_scale, \n",
    "    sampler_name=sampler,\n",
    "    n_inference_steps=num_inference_steps,\n",
    "    seed=seed,\n",
    "    models=models,\n",
    "    device=device,\n",
    "    idle_device='cpu',\n",
    "    tokenizer=tokenizer\n",
    ")\n",
    "\n",
    "Image.fromarray(output_image)\n"
   ]
  }
 ],
 "metadata": {
  "kernelspec": {
   "display_name": "tensor_flow",
   "language": "python",
   "name": "python3"
  },
  "language_info": {
   "codemirror_mode": {
    "name": "ipython",
    "version": 3
   },
   "file_extension": ".py",
   "mimetype": "text/x-python",
   "name": "python",
   "nbconvert_exporter": "python",
   "pygments_lexer": "ipython3",
   "version": "3.9.18"
  }
 },
 "nbformat": 4,
 "nbformat_minor": 2
}
